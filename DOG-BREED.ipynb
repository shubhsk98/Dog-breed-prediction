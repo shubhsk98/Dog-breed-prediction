{
 "cells": [
  {
   "cell_type": "markdown",
   "id": "f4c359c6",
   "metadata": {},
   "source": [
    "# dog-breed-prediction\n",
    "\n",
    "=> In this project, we will see how to use Keras and TensorFlow to build, train, and test a Convolutional Neural Network capable of identifying the breed of a dog in a supplied image. This is a supervised learning problem, specifically a multiclass classification problem.\n",
    "\n",
    "=> convolutional neural network r generly used for img classification."
   ]
  },
  {
   "cell_type": "code",
   "execution_count": null,
   "id": "2db063a3",
   "metadata": {},
   "outputs": [],
   "source": [
    "# step to solve the problem\n",
    "1) first step load data from kaggle.\n",
    "2) after that load the csv for label that contain img I.D and breed.\n",
    "3) after will check those breed counts\n",
    "4) after will perform one hot encoding on labels data prediction column.\n",
    "5) then after will load the image,convert them to an array and normalize them.\n",
    "6) then will check shape and size of X and Y  data.\n",
    "7) then build the model network architecture.\n",
    "8) split the data and fit in into the model and create an accuracy plot.\n",
    "9) evaluate the model for accuracy score.\n",
    "10) using the model for prediction."
   ]
  },
  {
   "cell_type": "markdown",
   "id": "59d8782d",
   "metadata": {},
   "source": [
    "##### in this project, we will start by downloading the dataset creating the model and finding out prediction using model.\n",
    "##### this model can be optimized diff hyperparameter using this model for higher accuracy.\n",
    "##### this model can be used to predict diff breed of dogs which can be further used by diff NGOs working on save animal and for education purpose also."
   ]
  },
  {
   "cell_type": "markdown",
   "id": "cb633ad5",
   "metadata": {},
   "source": [
    "# in this project we load the dataset from kaggle \n",
    "\n",
    "=> we load the data from kaggle API through"
   ]
  },
  {
   "cell_type": "code",
   "execution_count": 1,
   "id": "ecc89808",
   "metadata": {},
   "outputs": [
    {
     "name": "stdout",
     "output_type": "stream",
     "text": [
      "Collecting kaggle\n",
      "  Downloading kaggle-1.5.12.tar.gz (58 kB)\n",
      "Requirement already satisfied: six>=1.10 in c:\\users\\lenovo\\anaconda3\\lib\\site-packages (from kaggle) (1.16.0)\n",
      "Requirement already satisfied: certifi in c:\\users\\lenovo\\anaconda3\\lib\\site-packages (from kaggle) (2021.10.8)\n",
      "Requirement already satisfied: python-dateutil in c:\\users\\lenovo\\anaconda3\\lib\\site-packages (from kaggle) (2.8.2)\n",
      "Requirement already satisfied: requests in c:\\users\\lenovo\\anaconda3\\lib\\site-packages (from kaggle) (2.26.0)\n",
      "Requirement already satisfied: tqdm in c:\\users\\lenovo\\anaconda3\\lib\\site-packages (from kaggle) (4.62.3)\n",
      "Requirement already satisfied: python-slugify in c:\\users\\lenovo\\anaconda3\\lib\\site-packages (from kaggle) (5.0.2)\n",
      "Requirement already satisfied: urllib3 in c:\\users\\lenovo\\anaconda3\\lib\\site-packages (from kaggle) (1.26.7)\n",
      "Requirement already satisfied: text-unidecode>=1.3 in c:\\users\\lenovo\\anaconda3\\lib\\site-packages (from python-slugify->kaggle) (1.3)\n",
      "Requirement already satisfied: idna<4,>=2.5 in c:\\users\\lenovo\\anaconda3\\lib\\site-packages (from requests->kaggle) (3.2)\n",
      "Requirement already satisfied: charset-normalizer~=2.0.0 in c:\\users\\lenovo\\anaconda3\\lib\\site-packages (from requests->kaggle) (2.0.4)\n",
      "Requirement already satisfied: colorama in c:\\users\\lenovo\\anaconda3\\lib\\site-packages (from tqdm->kaggle) (0.4.4)\n",
      "Building wheels for collected packages: kaggle\n",
      "  Building wheel for kaggle (setup.py): started\n",
      "  Building wheel for kaggle (setup.py): finished with status 'done'\n",
      "  Created wheel for kaggle: filename=kaggle-1.5.12-py3-none-any.whl size=73051 sha256=06648c4defe61fde755216c0b77c8485975cdbe0ef0105347867d8f4231018bd\n",
      "  Stored in directory: c:\\users\\lenovo\\appdata\\local\\pip\\cache\\wheels\\ac\\b2\\c3\\fa4706d469b5879105991d1c8be9a3c2ef329ba9fe2ce5085e\n",
      "Successfully built kaggle\n",
      "Installing collected packages: kaggle\n",
      "Successfully installed kaggle-1.5.12\n"
     ]
    }
   ],
   "source": [
    "# for that firstly we install the Kaggle API client.\n",
    "\n",
    "!pip install kaggle"
   ]
  },
  {
   "cell_type": "code",
   "execution_count": 2,
   "id": "e6356b14",
   "metadata": {},
   "outputs": [],
   "source": [
    "# The Kaggle API client expects this file to be create kaggle file to store in json file\n",
    "!mkdir .kaggle"
   ]
  },
  {
   "cell_type": "code",
   "execution_count": 3,
   "id": "fe8d55fd",
   "metadata": {},
   "outputs": [
    {
     "name": "stdout",
     "output_type": "stream",
     "text": [
      " Volume in drive C has no label.\n",
      " Volume Serial Number is 8CA7-EC90\n",
      "\n",
      " Directory of C:\\Users\\Lenovo\\DATA SCIENCE PROJECT python file\\2) DOG-BREED-PREDICTION\n",
      "\n",
      "02/22/2022  11:19 AM    <DIR>          .\n",
      "02/22/2022  11:19 AM    <DIR>          ..\n",
      "02/22/2022  12:48 AM    <DIR>          .ipynb_checkpoints\n",
      "02/22/2022  11:20 AM    <DIR>          .kaggle\n",
      "02/22/2022  11:19 AM            30,492 DOG-BREED.ipynb\n",
      "02/22/2022  12:49 AM    <DIR>          dog_data\n",
      "               1 File(s)         30,492 bytes\n",
      "               5 Dir(s)  75,897,098,240 bytes free\n"
     ]
    }
   ],
   "source": [
    "# now check out kaggle json file\n",
    "\n",
    "!cd C:\\Users\\Lenovo\\DATA SCIENCE PROJECT python file\\2) DOG-BREED-PREDICTION && dir"
   ]
  },
  {
   "cell_type": "markdown",
   "id": "d522c5ac",
   "metadata": {},
   "source": [
    "# Next To store the data we will create a new directory and make it as current working directory."
   ]
  },
  {
   "cell_type": "code",
   "execution_count": 4,
   "id": "23da3ddb",
   "metadata": {},
   "outputs": [
    {
     "name": "stdout",
     "output_type": "stream",
     "text": [
      "C:\\Users\\Lenovo\\DATA SCIENCE PROJECT python file\\2) DOG-BREED-PREDICTION\\dog_data\n"
     ]
    },
    {
     "name": "stderr",
     "output_type": "stream",
     "text": [
      "A subdirectory or file dog_data already exists.\n"
     ]
    }
   ],
   "source": [
    "# # Creating directory and changing the current working directory\n",
    "\n",
    "!mkdir dog_data\n",
    "%cd dog_data"
   ]
  },
  {
   "cell_type": "markdown",
   "id": "8ceea9f3",
   "metadata": {},
   "source": [
    "## Searching Kaggle for the required dataset using search option(-s) with title 'dogbreedidfromcomp'. \n",
    "\n",
    "=>We can also use different search options like searching competitions, notebooks, kernels, datasets, etc."
   ]
  },
  {
   "cell_type": "code",
   "execution_count": 5,
   "id": "d5dbe791",
   "metadata": {},
   "outputs": [
    {
     "name": "stdout",
     "output_type": "stream",
     "text": [
      "ref                                title                    size  lastUpdated          downloadCount  voteCount  usabilityRating  \n",
      "---------------------------------  ----------------------  -----  -------------------  -------------  ---------  ---------------  \n",
      "catherinehorng/dogbreedidfromcomp  dog-breed-id-from-comp  691MB  2020-06-26 03:09:05            831          3  0.1764706        \n"
     ]
    }
   ],
   "source": [
    "# Searching for dataset\n",
    "!kaggle datasets list -s dog-breed-id-from-comp"
   ]
  },
  {
   "cell_type": "markdown",
   "id": "092b603f",
   "metadata": {},
   "source": [
    "## After searching the data next step would be downloading the data into jupyter notebook using references found in search option."
   ]
  },
  {
   "cell_type": "code",
   "execution_count": 6,
   "id": "50078f90",
   "metadata": {},
   "outputs": [
    {
     "name": "stdout",
     "output_type": "stream",
     "text": [
      "dogbreedidfromcomp.zip: Skipping, found more recently modified local copy (use --force to force download)\n"
     ]
    }
   ],
   "source": [
    "# Downloading dataset and coming out of directory\n",
    "!kaggle datasets download catherinehorng/dogbreedidfromcomp"
   ]
  },
  {
   "cell_type": "markdown",
   "id": "604bcd83",
   "metadata": {},
   "source": [
    "## We will unzip the data which is downloaded and remove the irrelevant files"
   ]
  },
  {
   "cell_type": "code",
   "execution_count": 7,
   "id": "45804113",
   "metadata": {},
   "outputs": [],
   "source": [
    "# Unzipping downloaded file and removing unusable file\n",
    "\n",
    "import zipfile\n",
    "with zipfile.ZipFile(\"dogbreedidfromcomp.zip\",\"r\") as zip_ref:\n",
    "    zip_ref.extractall()"
   ]
  },
  {
   "cell_type": "markdown",
   "id": "d3e4cbca",
   "metadata": {},
   "source": [
    "# now our data analysis part start"
   ]
  },
  {
   "cell_type": "markdown",
   "id": "8d90e631",
   "metadata": {},
   "source": [
    "### Important library imports"
   ]
  },
  {
   "cell_type": "code",
   "execution_count": 9,
   "id": "0735a222",
   "metadata": {},
   "outputs": [],
   "source": [
    "# Important library imports\n",
    "import numpy as np \n",
    "import pandas as pd \n",
    "import matplotlib.pyplot as plt\n",
    "\n",
    "from tqdm import tqdm\n",
    "from keras.preprocessing import image\n",
    "from sklearn.preprocessing import label_binarize\n",
    "from sklearn.model_selection import train_test_split\n",
    "from keras.models import Sequential\n",
    "from keras.layers import Dense, Dropout, Flatten, Conv2D, MaxPool2D\n",
    "from tensorflow.keras.optimizers import Adam"
   ]
  },
  {
   "cell_type": "code",
   "execution_count": 11,
   "id": "c983b729",
   "metadata": {},
   "outputs": [
    {
     "data": {
      "text/plain": [
       "'C:\\\\Users\\\\Lenovo\\\\DATA SCIENCE PROJECT python file\\\\2) DOG-BREED-PREDICTION\\\\dog_data'"
      ]
     },
     "execution_count": 11,
     "metadata": {},
     "output_type": "execute_result"
    }
   ],
   "source": [
    "# we load the csv file for that we create the directory path\n",
    "\n",
    "import os\n",
    "os.chdir(r\"C:\\Users\\Lenovo\\DATA SCIENCE PROJECT python file\\2) DOG-BREED-PREDICTION\\dog_data\")\n",
    "os.getcwd()"
   ]
  },
  {
   "cell_type": "markdown",
   "id": "d8f0bf96",
   "metadata": {},
   "source": [
    "### Loading the labels data into dataframe and viewing it. Here we analysed that labels contains 10222 rows and 2 columns."
   ]
  },
  {
   "cell_type": "code",
   "execution_count": 12,
   "id": "f997eff0",
   "metadata": {},
   "outputs": [
    {
     "name": "stdout",
     "output_type": "stream",
     "text": [
      "(10222, 2)\n"
     ]
    },
    {
     "data": {
      "text/html": [
       "<div>\n",
       "<style scoped>\n",
       "    .dataframe tbody tr th:only-of-type {\n",
       "        vertical-align: middle;\n",
       "    }\n",
       "\n",
       "    .dataframe tbody tr th {\n",
       "        vertical-align: top;\n",
       "    }\n",
       "\n",
       "    .dataframe thead th {\n",
       "        text-align: right;\n",
       "    }\n",
       "</style>\n",
       "<table border=\"1\" class=\"dataframe\">\n",
       "  <thead>\n",
       "    <tr style=\"text-align: right;\">\n",
       "      <th></th>\n",
       "      <th>id</th>\n",
       "      <th>breed</th>\n",
       "    </tr>\n",
       "  </thead>\n",
       "  <tbody>\n",
       "    <tr>\n",
       "      <th>0</th>\n",
       "      <td>000bec180eb18c7604dcecc8fe0dba07</td>\n",
       "      <td>boston_bull</td>\n",
       "    </tr>\n",
       "    <tr>\n",
       "      <th>1</th>\n",
       "      <td>001513dfcb2ffafc82cccf4d8bbaba97</td>\n",
       "      <td>dingo</td>\n",
       "    </tr>\n",
       "    <tr>\n",
       "      <th>2</th>\n",
       "      <td>001cdf01b096e06d78e9e5112d419397</td>\n",
       "      <td>pekinese</td>\n",
       "    </tr>\n",
       "    <tr>\n",
       "      <th>3</th>\n",
       "      <td>00214f311d5d2247d5dfe4fe24b2303d</td>\n",
       "      <td>bluetick</td>\n",
       "    </tr>\n",
       "    <tr>\n",
       "      <th>4</th>\n",
       "      <td>0021f9ceb3235effd7fcde7f7538ed62</td>\n",
       "      <td>golden_retriever</td>\n",
       "    </tr>\n",
       "    <tr>\n",
       "      <th>5</th>\n",
       "      <td>002211c81b498ef88e1b40b9abf84e1d</td>\n",
       "      <td>bedlington_terrier</td>\n",
       "    </tr>\n",
       "    <tr>\n",
       "      <th>6</th>\n",
       "      <td>00290d3e1fdd27226ba27a8ce248ce85</td>\n",
       "      <td>bedlington_terrier</td>\n",
       "    </tr>\n",
       "    <tr>\n",
       "      <th>7</th>\n",
       "      <td>002a283a315af96eaea0e28e7163b21b</td>\n",
       "      <td>borzoi</td>\n",
       "    </tr>\n",
       "    <tr>\n",
       "      <th>8</th>\n",
       "      <td>003df8b8a8b05244b1d920bb6cf451f9</td>\n",
       "      <td>basenji</td>\n",
       "    </tr>\n",
       "    <tr>\n",
       "      <th>9</th>\n",
       "      <td>0042188c895a2f14ef64a918ed9c7b64</td>\n",
       "      <td>scottish_deerhound</td>\n",
       "    </tr>\n",
       "  </tbody>\n",
       "</table>\n",
       "</div>"
      ],
      "text/plain": [
       "                                 id               breed\n",
       "0  000bec180eb18c7604dcecc8fe0dba07         boston_bull\n",
       "1  001513dfcb2ffafc82cccf4d8bbaba97               dingo\n",
       "2  001cdf01b096e06d78e9e5112d419397            pekinese\n",
       "3  00214f311d5d2247d5dfe4fe24b2303d            bluetick\n",
       "4  0021f9ceb3235effd7fcde7f7538ed62    golden_retriever\n",
       "5  002211c81b498ef88e1b40b9abf84e1d  bedlington_terrier\n",
       "6  00290d3e1fdd27226ba27a8ce248ce85  bedlington_terrier\n",
       "7  002a283a315af96eaea0e28e7163b21b              borzoi\n",
       "8  003df8b8a8b05244b1d920bb6cf451f9             basenji\n",
       "9  0042188c895a2f14ef64a918ed9c7b64  scottish_deerhound"
      ]
     },
     "execution_count": 12,
     "metadata": {},
     "output_type": "execute_result"
    }
   ],
   "source": [
    "# Read the labels.csv file and checking shape and records\n",
    "labels_all = pd.read_csv('labels.csv')\n",
    "print(labels_all.shape)\n",
    "labels_all.head(10)"
   ]
  },
  {
   "cell_type": "markdown",
   "id": "43d6d69c",
   "metadata": {},
   "source": [
    "### Here we are finding out the count per class i.e. total data in each class using value_counts() function."
   ]
  },
  {
   "cell_type": "code",
   "execution_count": null,
   "id": "76ff44ad",
   "metadata": {},
   "outputs": [],
   "source": [
    "# lets visualize the number of each group that is the value of each breed."
   ]
  },
  {
   "cell_type": "code",
   "execution_count": 13,
   "id": "a1c0dae7",
   "metadata": {},
   "outputs": [
    {
     "data": {
      "text/plain": [
       "scottish_deerhound      126\n",
       "maltese_dog             117\n",
       "afghan_hound            116\n",
       "entlebucher             115\n",
       "bernese_mountain_dog    114\n",
       "Name: breed, dtype: int64"
      ]
     },
     "execution_count": 13,
     "metadata": {},
     "output_type": "execute_result"
    }
   ],
   "source": [
    "# Visualize the number of each breeds\n",
    "breeds_all = labels_all[\"breed\"]\n",
    "breed_counts = breeds_all.value_counts()\n",
    "breed_counts.head()"
   ]
  },
  {
   "cell_type": "markdown",
   "id": "27c4e540",
   "metadata": {},
   "source": [
    "### We will work on only 3 breeds due to limited computational power. You can consider more classes as per your system computational power"
   ]
  },
  {
   "cell_type": "code",
   "execution_count": null,
   "id": "f341bb78",
   "metadata": {},
   "outputs": [],
   "source": [
    "# so the totol number each class can be find,not using the commerce function as the dataset is more large.\n",
    "# and due to computation power less computation power.so what we will do is ?\n",
    "# so we select only three breed for classification."
   ]
  },
  {
   "cell_type": "code",
   "execution_count": 14,
   "id": "e77156d5",
   "metadata": {},
   "outputs": [
    {
     "data": {
      "text/html": [
       "<div>\n",
       "<style scoped>\n",
       "    .dataframe tbody tr th:only-of-type {\n",
       "        vertical-align: middle;\n",
       "    }\n",
       "\n",
       "    .dataframe tbody tr th {\n",
       "        vertical-align: top;\n",
       "    }\n",
       "\n",
       "    .dataframe thead th {\n",
       "        text-align: right;\n",
       "    }\n",
       "</style>\n",
       "<table border=\"1\" class=\"dataframe\">\n",
       "  <thead>\n",
       "    <tr style=\"text-align: right;\">\n",
       "      <th></th>\n",
       "      <th>index</th>\n",
       "      <th>id</th>\n",
       "      <th>breed</th>\n",
       "    </tr>\n",
       "  </thead>\n",
       "  <tbody>\n",
       "    <tr>\n",
       "      <th>0</th>\n",
       "      <td>9</td>\n",
       "      <td>0042188c895a2f14ef64a918ed9c7b64</td>\n",
       "      <td>scottish_deerhound</td>\n",
       "    </tr>\n",
       "    <tr>\n",
       "      <th>1</th>\n",
       "      <td>12</td>\n",
       "      <td>00693b8bc2470375cc744a6391d397ec</td>\n",
       "      <td>maltese_dog</td>\n",
       "    </tr>\n",
       "    <tr>\n",
       "      <th>2</th>\n",
       "      <td>79</td>\n",
       "      <td>01e787576c003930f96c966f9c3e1d44</td>\n",
       "      <td>scottish_deerhound</td>\n",
       "    </tr>\n",
       "    <tr>\n",
       "      <th>3</th>\n",
       "      <td>90</td>\n",
       "      <td>022b34fd8734b39995a9f38a4f3e7b6b</td>\n",
       "      <td>maltese_dog</td>\n",
       "    </tr>\n",
       "    <tr>\n",
       "      <th>4</th>\n",
       "      <td>118</td>\n",
       "      <td>02d54f0dfb40038765e838459ae8c956</td>\n",
       "      <td>bernese_mountain_dog</td>\n",
       "    </tr>\n",
       "  </tbody>\n",
       "</table>\n",
       "</div>"
      ],
      "text/plain": [
       "   index                                id                 breed\n",
       "0      9  0042188c895a2f14ef64a918ed9c7b64    scottish_deerhound\n",
       "1     12  00693b8bc2470375cc744a6391d397ec           maltese_dog\n",
       "2     79  01e787576c003930f96c966f9c3e1d44    scottish_deerhound\n",
       "3     90  022b34fd8734b39995a9f38a4f3e7b6b           maltese_dog\n",
       "4    118  02d54f0dfb40038765e838459ae8c956  bernese_mountain_dog"
      ]
     },
     "execution_count": 14,
     "metadata": {},
     "output_type": "execute_result"
    }
   ],
   "source": [
    "# Selecting first 3 breeds (Limitation due to computation power)\n",
    "CLASS_NAMES = ['scottish_deerhound','maltese_dog','bernese_mountain_dog']\n",
    "labels = labels_all[(labels_all['breed'].isin(CLASS_NAMES))]\n",
    "labels = labels.reset_index()\n",
    "labels.head()"
   ]
  },
  {
   "cell_type": "code",
   "execution_count": null,
   "id": "94fc5cb5",
   "metadata": {},
   "outputs": [],
   "source": [
    "# above output explanation:so this is our data, according to the classes of the dogs we have selected,\n",
    "# will work on only three clasese tht is score test at home."
   ]
  },
  {
   "cell_type": "code",
   "execution_count": null,
   "id": "78459611",
   "metadata": {},
   "outputs": [],
   "source": [
    "# so next this is data is classification dataset,so we need to learn how to encode the target value that is classes of dogs"
   ]
  },
  {
   "cell_type": "markdown",
   "id": "d4f4c668",
   "metadata": {},
   "source": [
    "### As we are working with the classification dataset first we need to one hot encode the target value i.e. the classes. \n",
    "\n",
    "### After that we will read images and convert them into numpy array and finally normalizing the array."
   ]
  },
  {
   "cell_type": "code",
   "execution_count": 19,
   "id": "8a71d373",
   "metadata": {},
   "outputs": [
    {
     "name": "stderr",
     "output_type": "stream",
     "text": [
      "100%|████████████████████████████████████████████████████████████████████████████████| 357/357 [00:04<00:00, 79.80it/s]"
     ]
    },
    {
     "name": "stdout",
     "output_type": "stream",
     "text": [
      "\n",
      "Train Images shape:  (357, 224, 224, 3)  size: 53,738,496\n",
      "One-hot encoded output shape:  (357, 3)  size: 1,071\n"
     ]
    },
    {
     "name": "stderr",
     "output_type": "stream",
     "text": [
      "\n"
     ]
    }
   ],
   "source": [
    "# Creating numpy matrix with zeros\n",
    "X_data = np.zeros((len(labels), 224, 224, 3), dtype='float32')\n",
    "# One hot encoding\n",
    "Y_data = label_binarize(labels['breed'], classes = CLASS_NAMES)\n",
    "\n",
    "# Reading and converting image to numpy array bcz we need to normalizing dataset them.\n",
    "for i in tqdm(range(len(labels))):\n",
    "    img = image.load_img(r'C:\\Users\\lenovo\\DATA SCIENCE PROJECT python file\\2) DOG-BREED-PREDICTION\\dog_data\\train\\%s.jpg' % labels['id'][i], target_size=(224, 224))\n",
    "    img = image.img_to_array(img)\n",
    "    x = np.expand_dims(img.copy(), axis=0)\n",
    "    X_data[i] = x / 255.0   # this img pixcel from 0 to 255,so in order to normalize an img,we div tht img,so we div 255\n",
    "    \n",
    "# Printing train image and one hot encode shape & size\n",
    "print('\\nTrain Images shape: ',X_data.shape,' size: {:,}'.format(X_data.size))\n",
    "print('One-hot encoded output shape: ',Y_data.shape,' size: {:,}'.format(Y_data.size))"
   ]
  },
  {
   "cell_type": "markdown",
   "id": "414f1fc7",
   "metadata": {},
   "source": [
    "### Next we will create a network architecture for the model. \n",
    "\n",
    "### We have used different types of layers according to their features namely Conv_2d (It is used to create a convolutional kernel that is convolved with the input layer to produce the output tensor), max_pooling2d (It is a downsampling technique which takes out the maximum value over the window defined by poolsize), flatten (It flattens the input and creates a 1D output), Dense (Dense layer produce the output as the dot product of input and kernel).\n",
    "\n",
    "### After defining the network architecture we found out the total parameters as 162,619."
   ]
  },
  {
   "cell_type": "code",
   "execution_count": 16,
   "id": "651e4ef8",
   "metadata": {},
   "outputs": [
    {
     "name": "stdout",
     "output_type": "stream",
     "text": [
      "Model: \"sequential\"\n",
      "_________________________________________________________________\n",
      " Layer (type)                Output Shape              Param #   \n",
      "=================================================================\n",
      " conv2d (Conv2D)             (None, 220, 220, 64)      4864      \n",
      "                                                                 \n",
      " max_pooling2d (MaxPooling2D  (None, 110, 110, 64)     0         \n",
      " )                                                               \n",
      "                                                                 \n",
      " conv2d_1 (Conv2D)           (None, 108, 108, 32)      18464     \n",
      "                                                                 \n",
      " max_pooling2d_1 (MaxPooling  (None, 54, 54, 32)       0         \n",
      " 2D)                                                             \n",
      "                                                                 \n",
      " conv2d_2 (Conv2D)           (None, 48, 48, 16)        25104     \n",
      "                                                                 \n",
      " max_pooling2d_2 (MaxPooling  (None, 24, 24, 16)       0         \n",
      " 2D)                                                             \n",
      "                                                                 \n",
      " conv2d_3 (Conv2D)           (None, 20, 20, 8)         3208      \n",
      "                                                                 \n",
      " max_pooling2d_3 (MaxPooling  (None, 10, 10, 8)        0         \n",
      " 2D)                                                             \n",
      "                                                                 \n",
      " flatten (Flatten)           (None, 800)               0         \n",
      "                                                                 \n",
      " dense (Dense)               (None, 128)               102528    \n",
      "                                                                 \n",
      " dense_1 (Dense)             (None, 64)                8256      \n",
      "                                                                 \n",
      " dense_2 (Dense)             (None, 3)                 195       \n",
      "                                                                 \n",
      "=================================================================\n",
      "Total params: 162,619\n",
      "Trainable params: 162,619\n",
      "Non-trainable params: 0\n",
      "_________________________________________________________________\n"
     ]
    }
   ],
   "source": [
    "# Building the Model\n",
    "model = Sequential()\n",
    "\n",
    "model.add(Conv2D(filters = 64, kernel_size = (5,5), activation ='relu', input_shape = (224,224,3)))\n",
    "model.add(MaxPool2D(pool_size=(2,2)))\n",
    "\n",
    "model.add(Conv2D(filters = 32, kernel_size = (3,3), activation ='relu', kernel_regularizer = 'l2'))\n",
    "model.add(MaxPool2D(pool_size=(2,2)))\n",
    "\n",
    "model.add(Conv2D(filters = 16, kernel_size = (7,7), activation ='relu', kernel_regularizer = 'l2'))\n",
    "model.add(MaxPool2D(pool_size=(2,2)))\n",
    "\n",
    "model.add(Conv2D(filters = 8, kernel_size = (5,5), activation ='relu', kernel_regularizer = 'l2'))\n",
    "model.add(MaxPool2D(pool_size=(2,2)))\n",
    "\n",
    "model.add(Flatten())\n",
    "model.add(Dense(128, activation = \"relu\", kernel_regularizer = 'l2'))\n",
    "model.add(Dense(64, activation = \"relu\", kernel_regularizer = 'l2'))\n",
    "model.add(Dense(len(CLASS_NAMES), activation = \"softmax\"))\n",
    "\n",
    "model.compile(loss = 'categorical_crossentropy', optimizer = Adam(0.0001),metrics=['accuracy'])\n",
    "\n",
    "model.summary()"
   ]
  },
  {
   "cell_type": "markdown",
   "id": "f79c247b",
   "metadata": {},
   "source": [
    "### After defining the network architecture we will start with splitting the test and train data then dividing train data in train and validation data"
   ]
  },
  {
   "cell_type": "code",
   "execution_count": 17,
   "id": "e308cb39",
   "metadata": {},
   "outputs": [],
   "source": [
    "# Splitting the data set into training and testing data sets\n",
    "X_train_and_val, X_test, Y_train_and_val, Y_test = train_test_split(X_data, Y_data, test_size = 0.1)\n",
    "# Splitting the training data set into training and validation data sets\n",
    "X_train, X_val, Y_train, Y_val = train_test_split(X_train_and_val, Y_train_and_val, test_size = 0.2)"
   ]
  },
  {
   "cell_type": "markdown",
   "id": "cc0f0fb9",
   "metadata": {},
   "source": [
    "### Now we will train our model on 100 epochs and a batch size of 128. You can try using more number of epochs to increase accuracy. During each epochs we can see how the model is performing by viewing the training and validation accuracy"
   ]
  },
  {
   "cell_type": "code",
   "execution_count": null,
   "id": "6cd20654",
   "metadata": {},
   "outputs": [
    {
     "name": "stdout",
     "output_type": "stream",
     "text": [
      "Epoch 1/50\n"
     ]
    }
   ],
   "source": [
    "# Training the model\n",
    "epochs = 100\n",
    "batch_size = 128\n",
    "\n",
    "history = model.fit(X_train, Y_train, batch_size = batch_size, epochs = epochs, validation_data = (X_val, Y_val))"
   ]
  },
  {
   "cell_type": "markdown",
   "id": "71d249e3",
   "metadata": {},
   "source": [
    "### Here we analyse how the model is learning with each epoch in terms of accuracy."
   ]
  },
  {
   "cell_type": "code",
   "execution_count": null,
   "id": "97e1a859",
   "metadata": {},
   "outputs": [],
   "source": [
    "# Plot the training history\n",
    "plt.figure(figsize=(12, 5))\n",
    "plt.plot(history.history['accuracy'], color='r')\n",
    "plt.plot(history.history['val_accuracy'], color='b')\n",
    "plt.title('Model Accuracy')\n",
    "plt.ylabel('Accuracy')\n",
    "plt.xlabel('Epochs')\n",
    "plt.legend(['train', 'val'])\n",
    "\n",
    "plt.show()"
   ]
  },
  {
   "cell_type": "markdown",
   "id": "067ae604",
   "metadata": {},
   "source": [
    "# We will use predict function to make predictions using this model also we are finding out the accuracy on the test set."
   ]
  },
  {
   "cell_type": "code",
   "execution_count": null,
   "id": "1dd373b9",
   "metadata": {},
   "outputs": [],
   "source": [
    "Y_pred = model.predict(X_test)\n",
    "score = model.evaluate(X_test, Y_test)\n",
    "print('Accuracy over the test set: \\n ', round((score[1]*100), 2), '%')"
   ]
  },
  {
   "cell_type": "markdown",
   "id": "be7bd4e4",
   "metadata": {},
   "source": [
    "# Here you can see image with its original and predicted label."
   ]
  },
  {
   "cell_type": "code",
   "execution_count": null,
   "id": "186faed0",
   "metadata": {},
   "outputs": [],
   "source": [
    "# Plotting image to compare\n",
    "plt.imshow(X_test[1,:,:,:])\n",
    "plt.show()\n",
    "\n",
    "# Finding max value from predition list and comaparing original value vs predicted\n",
    "print(\"Originally : \",labels['breed'][np.argmax(Y_test[1])])\n",
    "print(\"Predicted : \",labels['breed'][np.argmax(Y_pred[1])])"
   ]
  },
  {
   "cell_type": "code",
   "execution_count": null,
   "id": "dd4987c5",
   "metadata": {},
   "outputs": [],
   "source": []
  },
  {
   "cell_type": "markdown",
   "id": "ae4a1b4a",
   "metadata": {},
   "source": [
    "# Conclusion:\n",
    "We started with downloading the dataset creating the model and finding out the predictions using the model. We can optimize different hyper parameters in order to tune this model for a higher accuracy. This model can be used to predict different breeds of dogs which can be further used by different NGO's working on saving animals and for educational purposes also."
   ]
  },
  {
   "cell_type": "code",
   "execution_count": null,
   "id": "c5baddb9",
   "metadata": {},
   "outputs": [],
   "source": []
  },
  {
   "cell_type": "code",
   "execution_count": null,
   "id": "3b7214a1",
   "metadata": {},
   "outputs": [],
   "source": []
  },
  {
   "cell_type": "code",
   "execution_count": null,
   "id": "aaccbea7",
   "metadata": {},
   "outputs": [],
   "source": []
  },
  {
   "cell_type": "code",
   "execution_count": null,
   "id": "13ea8da4",
   "metadata": {},
   "outputs": [],
   "source": []
  },
  {
   "cell_type": "code",
   "execution_count": null,
   "id": "a446cf1b",
   "metadata": {},
   "outputs": [],
   "source": [
    "# other step for doenload data from kaggle "
   ]
  },
  {
   "cell_type": "code",
   "execution_count": 1,
   "id": "eb11a560",
   "metadata": {},
   "outputs": [],
   "source": [
    "import opendatasets as od"
   ]
  },
  {
   "cell_type": "code",
   "execution_count": 2,
   "id": "c444117c",
   "metadata": {},
   "outputs": [],
   "source": [
    "datasets = \"https://drive.google.com/drive/folders/11o5Nfj8kFd0xfkLsCrJrWI0CpBudveHq?usp=sharing\""
   ]
  },
  {
   "cell_type": "code",
   "execution_count": null,
   "id": "dfc9d1f7",
   "metadata": {},
   "outputs": [],
   "source": [
    "od.download('datasets')"
   ]
  },
  {
   "cell_type": "code",
   "execution_count": null,
   "id": "8e281daa",
   "metadata": {},
   "outputs": [],
   "source": [
    "import os"
   ]
  },
  {
   "cell_type": "code",
   "execution_count": null,
   "id": "a1bb6064",
   "metadata": {},
   "outputs": [],
   "source": [
    "data_dir = '.\\dog-breed-classification'"
   ]
  },
  {
   "cell_type": "code",
   "execution_count": null,
   "id": "dfbb19aa",
   "metadata": {},
   "outputs": [],
   "source": []
  },
  {
   "cell_type": "code",
   "execution_count": null,
   "id": "22946ed3",
   "metadata": {},
   "outputs": [],
   "source": [
    "os.listdir(data_dir)"
   ]
  },
  {
   "cell_type": "code",
   "execution_count": null,
   "id": "b0a7c79a",
   "metadata": {},
   "outputs": [],
   "source": []
  },
  {
   "cell_type": "code",
   "execution_count": null,
   "id": "6ad63c67",
   "metadata": {},
   "outputs": [],
   "source": []
  }
 ],
 "metadata": {
  "kernelspec": {
   "display_name": "Python 3 (ipykernel)",
   "language": "python",
   "name": "python3"
  },
  "language_info": {
   "codemirror_mode": {
    "name": "ipython",
    "version": 3
   },
   "file_extension": ".py",
   "mimetype": "text/x-python",
   "name": "python",
   "nbconvert_exporter": "python",
   "pygments_lexer": "ipython3",
   "version": "3.9.7"
  }
 },
 "nbformat": 4,
 "nbformat_minor": 5
}
